{
  "nbformat": 4,
  "nbformat_minor": 0,
  "metadata": {
    "colab": {
      "name": "Shakespeare_Answer using NLP(LSTM).ipynb",
      "provenance": [],
      "collapsed_sections": [],
      "include_colab_link": true
    },
    "kernelspec": {
      "name": "python3",
      "display_name": "Python 3"
    },
    "accelerator": "GPU"
  },
  "cells": [
    {
      "cell_type": "markdown",
      "metadata": {
        "id": "view-in-github",
        "colab_type": "text"
      },
      "source": [
        "<a href=\"https://colab.research.google.com/github/jaynarayan94/Coursera/blob/master/Shakespeare_Answer_using_NLP(LSTM).ipynb\" target=\"_parent\"><img src=\"https://colab.research.google.com/assets/colab-badge.svg\" alt=\"Open In Colab\"/></a>"
      ]
    },
    {
      "cell_type": "code",
      "metadata": {
        "id": "B6LGmfT5yjj2",
        "colab_type": "code",
        "colab": {}
      },
      "source": [
        "# from __future__ import absolute_import, division, print_function, unicode_literals\n",
        "\n",
        "try:\n",
        "  # %tensorflow_version only exists in Colab.\n",
        "  %tensorflow_version 2.x\n",
        "except Exception:\n",
        "  pass"
      ],
      "execution_count": 0,
      "outputs": []
    },
    {
      "cell_type": "code",
      "metadata": {
        "id": "BOwsuGQQY9OL",
        "colab_type": "code",
        "colab": {}
      },
      "source": [
        "from tensorflow.keras.preprocessing.sequence import pad_sequences\n",
        "from tensorflow.keras.layers import Embedding, LSTM, Dense, Dropout, Bidirectional\n",
        "from tensorflow.keras.preprocessing.text import Tokenizer\n",
        "from tensorflow.keras.models import Sequential\n",
        "from tensorflow.keras.optimizers import Adam\n",
        "from tensorflow.keras import regularizers\n",
        "import tensorflow.keras.utils as ku \n",
        "import numpy as np "
      ],
      "execution_count": 0,
      "outputs": []
    },
    {
      "cell_type": "code",
      "metadata": {
        "colab_type": "code",
        "id": "PRnDnCW-Z7qv",
        "outputId": "7e406b43-759b-44a3-bc28-2400248a1b3f",
        "colab": {
          "base_uri": "https://localhost:8080/",
          "height": 202
        }
      },
      "source": [
        "tokenizer = Tokenizer()\n",
        "!wget --no-check-certificate \\\n",
        "    https://storage.googleapis.com/laurencemoroney-blog.appspot.com/sonnets.txt \\\n",
        "    -O /tmp/sonnets.txt\n",
        "data = open('/tmp/sonnets.txt').read()\n",
        "\n",
        "corpus = data.lower().split(\"\\n\")\n",
        "\n",
        "\n",
        "tokenizer.fit_on_texts(corpus)\n",
        "total_words = len(tokenizer.word_index) + 1\n",
        "\n",
        "# create input sequences using list of tokens\n",
        "input_sequences = []\n",
        "for line in corpus:\n",
        "\ttoken_list = tokenizer.texts_to_sequences([line])[0]\n",
        "\tfor i in range(1, len(token_list)):\n",
        "\t\tn_gram_sequence = token_list[:i+1]\n",
        "\t\tinput_sequences.append(n_gram_sequence)\n",
        "\n",
        "\n",
        "# pad sequences \n",
        "max_sequence_len = max([len(x) for x in input_sequences])\n",
        "input_sequences = np.array(pad_sequences(input_sequences, maxlen=max_sequence_len, padding='pre'))\n",
        "\n",
        "# create predictors and label\n",
        "predictors, label = input_sequences[:,:-1],input_sequences[:,-1]\n",
        "\n",
        "label = ku.to_categorical(label, num_classes=total_words)"
      ],
      "execution_count": 0,
      "outputs": [
        {
          "output_type": "stream",
          "text": [
            "--2019-10-30 17:51:52--  https://storage.googleapis.com/laurencemoroney-blog.appspot.com/sonnets.txt\n",
            "Resolving storage.googleapis.com (storage.googleapis.com)... 108.177.15.128, 2a00:1450:400c:c00::80\n",
            "Connecting to storage.googleapis.com (storage.googleapis.com)|108.177.15.128|:443... connected.\n",
            "HTTP request sent, awaiting response... 200 OK\n",
            "Length: 93578 (91K) [text/plain]\n",
            "Saving to: ‘/tmp/sonnets.txt’\n",
            "\n",
            "\r/tmp/sonnets.txt      0%[                    ]       0  --.-KB/s               \r/tmp/sonnets.txt    100%[===================>]  91.38K  --.-KB/s    in 0.004s  \n",
            "\n",
            "2019-10-30 17:51:52 (23.4 MB/s) - ‘/tmp/sonnets.txt’ saved [93578/93578]\n",
            "\n"
          ],
          "name": "stdout"
        }
      ]
    },
    {
      "cell_type": "code",
      "metadata": {
        "id": "w9vH8Y59ajYL",
        "colab_type": "code",
        "outputId": "00e813dc-166e-4d86-dc38-6443c6b0b336",
        "colab": {
          "base_uri": "https://localhost:8080/",
          "height": 370
        }
      },
      "source": [
        "model = Sequential()\n",
        "model.add(Embedding(total_words, 100, input_length=max_sequence_len-1))\n",
        "model.add(Bidirectional(LSTM(150, return_sequences = True)))\n",
        "model.add(Dropout(0.2))\n",
        "model.add(LSTM(100))\n",
        "model.add(Dense(total_words/2, activation='relu', kernel_regularizer=regularizers.l2(0.01)))\n",
        "model.add(Dense(total_words, activation='softmax'))\n",
        "model.compile(loss='categorical_crossentropy', optimizer='adam', metrics=['accuracy'])\n",
        "print(model.summary())\n"
      ],
      "execution_count": 0,
      "outputs": [
        {
          "output_type": "stream",
          "text": [
            "Model: \"sequential\"\n",
            "_________________________________________________________________\n",
            "Layer (type)                 Output Shape              Param #   \n",
            "=================================================================\n",
            "embedding (Embedding)        (None, 10, 100)           321100    \n",
            "_________________________________________________________________\n",
            "bidirectional (Bidirectional (None, 10, 300)           301200    \n",
            "_________________________________________________________________\n",
            "dropout (Dropout)            (None, 10, 300)           0         \n",
            "_________________________________________________________________\n",
            "lstm_1 (LSTM)                (None, 100)               160400    \n",
            "_________________________________________________________________\n",
            "dense (Dense)                (None, 1605)              162105    \n",
            "_________________________________________________________________\n",
            "dense_1 (Dense)              (None, 3211)              5156866   \n",
            "=================================================================\n",
            "Total params: 6,101,671\n",
            "Trainable params: 6,101,671\n",
            "Non-trainable params: 0\n",
            "_________________________________________________________________\n",
            "None\n"
          ],
          "name": "stdout"
        }
      ]
    },
    {
      "cell_type": "code",
      "metadata": {
        "id": "AIg2f1HBxqof",
        "colab_type": "code",
        "outputId": "6c091f2b-e929-4d59-b6c7-36044964e63c",
        "colab": {
          "base_uri": "https://localhost:8080/",
          "height": 1000
        }
      },
      "source": [
        " history = model.fit(predictors, label, epochs=100, verbose=1)"
      ],
      "execution_count": 0,
      "outputs": [
        {
          "output_type": "stream",
          "text": [
            "Train on 15462 samples\n",
            "Epoch 1/100\n",
            "15462/15462 [==============================] - 22s 1ms/sample - loss: 6.9105 - accuracy: 0.0220\n",
            "Epoch 2/100\n",
            "15462/15462 [==============================] - 14s 931us/sample - loss: 6.5002 - accuracy: 0.0210\n",
            "Epoch 3/100\n",
            "15462/15462 [==============================] - 14s 929us/sample - loss: 6.4006 - accuracy: 0.0250\n",
            "Epoch 4/100\n",
            "15462/15462 [==============================] - 14s 929us/sample - loss: 6.2755 - accuracy: 0.0294\n",
            "Epoch 5/100\n",
            "15462/15462 [==============================] - 14s 926us/sample - loss: 6.1777 - accuracy: 0.0343\n",
            "Epoch 6/100\n",
            "15462/15462 [==============================] - 14s 926us/sample - loss: 6.0925 - accuracy: 0.0387\n",
            "Epoch 7/100\n",
            "15462/15462 [==============================] - 14s 932us/sample - loss: 6.0156 - accuracy: 0.0411\n",
            "Epoch 8/100\n",
            "15462/15462 [==============================] - 14s 926us/sample - loss: 5.9364 - accuracy: 0.0451\n",
            "Epoch 9/100\n",
            "15462/15462 [==============================] - 15s 939us/sample - loss: 5.8473 - accuracy: 0.0516\n",
            "Epoch 10/100\n",
            "15462/15462 [==============================] - 14s 926us/sample - loss: 5.7412 - accuracy: 0.0572\n",
            "Epoch 11/100\n",
            "15462/15462 [==============================] - 14s 924us/sample - loss: 5.6343 - accuracy: 0.0628\n",
            "Epoch 12/100\n",
            "15462/15462 [==============================] - 14s 923us/sample - loss: 5.5330 - accuracy: 0.0694\n",
            "Epoch 13/100\n",
            "15462/15462 [==============================] - 14s 925us/sample - loss: 5.4392 - accuracy: 0.0757\n",
            "Epoch 14/100\n",
            "15462/15462 [==============================] - 14s 926us/sample - loss: 5.3457 - accuracy: 0.0804\n",
            "Epoch 15/100\n",
            "15462/15462 [==============================] - 14s 925us/sample - loss: 5.2511 - accuracy: 0.0860\n",
            "Epoch 16/100\n",
            "15462/15462 [==============================] - 14s 924us/sample - loss: 5.1539 - accuracy: 0.0960\n",
            "Epoch 17/100\n",
            "15462/15462 [==============================] - 14s 924us/sample - loss: 5.0527 - accuracy: 0.1021\n",
            "Epoch 18/100\n",
            "15462/15462 [==============================] - 15s 938us/sample - loss: 4.9573 - accuracy: 0.1103\n",
            "Epoch 19/100\n",
            "15462/15462 [==============================] - 14s 924us/sample - loss: 4.8560 - accuracy: 0.1169\n",
            "Epoch 20/100\n",
            "15462/15462 [==============================] - 14s 922us/sample - loss: 4.7658 - accuracy: 0.1253\n",
            "Epoch 21/100\n",
            "15462/15462 [==============================] - 14s 923us/sample - loss: 4.6597 - accuracy: 0.1361\n",
            "Epoch 22/100\n",
            "15462/15462 [==============================] - 14s 923us/sample - loss: 4.5562 - accuracy: 0.1458\n",
            "Epoch 23/100\n",
            "15462/15462 [==============================] - 14s 922us/sample - loss: 4.4626 - accuracy: 0.1523\n",
            "Epoch 24/100\n",
            "15462/15462 [==============================] - 14s 926us/sample - loss: 4.3606 - accuracy: 0.1657\n",
            "Epoch 25/100\n",
            "15462/15462 [==============================] - 14s 927us/sample - loss: 4.2603 - accuracy: 0.1733\n",
            "Epoch 26/100\n",
            "15462/15462 [==============================] - 14s 921us/sample - loss: 4.1668 - accuracy: 0.1876\n",
            "Epoch 27/100\n",
            "15462/15462 [==============================] - 14s 925us/sample - loss: 4.0705 - accuracy: 0.2008\n",
            "Epoch 28/100\n",
            "15462/15462 [==============================] - 14s 917us/sample - loss: 3.9795 - accuracy: 0.2152\n",
            "Epoch 29/100\n",
            "15462/15462 [==============================] - 14s 926us/sample - loss: 3.8816 - accuracy: 0.2291\n",
            "Epoch 30/100\n",
            "15462/15462 [==============================] - 14s 937us/sample - loss: 3.7878 - accuracy: 0.2423\n",
            "Epoch 31/100\n",
            "15462/15462 [==============================] - 14s 925us/sample - loss: 3.7036 - accuracy: 0.2610\n",
            "Epoch 32/100\n",
            "15462/15462 [==============================] - 14s 923us/sample - loss: 3.6261 - accuracy: 0.2742\n",
            "Epoch 33/100\n",
            "15462/15462 [==============================] - 14s 927us/sample - loss: 3.5383 - accuracy: 0.2923\n",
            "Epoch 34/100\n",
            "15462/15462 [==============================] - 14s 928us/sample - loss: 3.4538 - accuracy: 0.3062\n",
            "Epoch 35/100\n",
            "15462/15462 [==============================] - 14s 927us/sample - loss: 3.3756 - accuracy: 0.3263\n",
            "Epoch 36/100\n",
            "15462/15462 [==============================] - 14s 927us/sample - loss: 3.2902 - accuracy: 0.3474\n",
            "Epoch 37/100\n",
            "15462/15462 [==============================] - 14s 925us/sample - loss: 3.2149 - accuracy: 0.3663\n",
            "Epoch 38/100\n",
            "15462/15462 [==============================] - 14s 929us/sample - loss: 3.1383 - accuracy: 0.3827\n",
            "Epoch 39/100\n",
            "15462/15462 [==============================] - 14s 934us/sample - loss: 3.0601 - accuracy: 0.3997\n",
            "Epoch 40/100\n",
            "15462/15462 [==============================] - 15s 940us/sample - loss: 2.9999 - accuracy: 0.4157\n",
            "Epoch 41/100\n",
            "15462/15462 [==============================] - 14s 929us/sample - loss: 2.9272 - accuracy: 0.4306\n",
            "Epoch 42/100\n",
            "15462/15462 [==============================] - 14s 929us/sample - loss: 2.8690 - accuracy: 0.4419\n",
            "Epoch 43/100\n",
            "15462/15462 [==============================] - 14s 927us/sample - loss: 2.8001 - accuracy: 0.4570\n",
            "Epoch 44/100\n",
            "15462/15462 [==============================] - 14s 931us/sample - loss: 2.7418 - accuracy: 0.4712\n",
            "Epoch 45/100\n",
            "15462/15462 [==============================] - 14s 933us/sample - loss: 2.6957 - accuracy: 0.4859\n",
            "Epoch 46/100\n",
            "15462/15462 [==============================] - 14s 932us/sample - loss: 2.6293 - accuracy: 0.4992\n",
            "Epoch 47/100\n",
            "15462/15462 [==============================] - 14s 927us/sample - loss: 2.5726 - accuracy: 0.5119\n",
            "Epoch 48/100\n",
            "15462/15462 [==============================] - 14s 931us/sample - loss: 2.5239 - accuracy: 0.5212\n",
            "Epoch 49/100\n",
            "15462/15462 [==============================] - 14s 934us/sample - loss: 2.4736 - accuracy: 0.5310\n",
            "Epoch 50/100\n",
            "15462/15462 [==============================] - 14s 932us/sample - loss: 2.4213 - accuracy: 0.5451\n",
            "Epoch 51/100\n",
            "15462/15462 [==============================] - 15s 940us/sample - loss: 2.3734 - accuracy: 0.5578\n",
            "Epoch 52/100\n",
            "15462/15462 [==============================] - 14s 938us/sample - loss: 2.3407 - accuracy: 0.5638\n",
            "Epoch 53/100\n",
            "15462/15462 [==============================] - 14s 924us/sample - loss: 2.2979 - accuracy: 0.5720\n",
            "Epoch 54/100\n",
            "15462/15462 [==============================] - 14s 926us/sample - loss: 2.2423 - accuracy: 0.5876\n",
            "Epoch 55/100\n",
            "15462/15462 [==============================] - 14s 931us/sample - loss: 2.1947 - accuracy: 0.5966\n",
            "Epoch 56/100\n",
            "15462/15462 [==============================] - 14s 929us/sample - loss: 2.1490 - accuracy: 0.6085\n",
            "Epoch 57/100\n",
            "15462/15462 [==============================] - 14s 930us/sample - loss: 2.1173 - accuracy: 0.6136\n",
            "Epoch 58/100\n",
            "15462/15462 [==============================] - 14s 928us/sample - loss: 2.0846 - accuracy: 0.6183\n",
            "Epoch 59/100\n",
            "15462/15462 [==============================] - 14s 929us/sample - loss: 2.0573 - accuracy: 0.6278\n",
            "Epoch 60/100\n",
            "15462/15462 [==============================] - 14s 924us/sample - loss: 2.0071 - accuracy: 0.6362\n",
            "Epoch 61/100\n",
            "15462/15462 [==============================] - 15s 941us/sample - loss: 1.9698 - accuracy: 0.6451\n",
            "Epoch 62/100\n",
            "15462/15462 [==============================] - 14s 924us/sample - loss: 1.9401 - accuracy: 0.6515\n",
            "Epoch 63/100\n",
            "15462/15462 [==============================] - 14s 929us/sample - loss: 1.9070 - accuracy: 0.6570\n",
            "Epoch 64/100\n",
            "15462/15462 [==============================] - 14s 921us/sample - loss: 1.8771 - accuracy: 0.6638\n",
            "Epoch 65/100\n",
            "15462/15462 [==============================] - 14s 921us/sample - loss: 1.8522 - accuracy: 0.6678\n",
            "Epoch 66/100\n",
            "15462/15462 [==============================] - 14s 922us/sample - loss: 1.8136 - accuracy: 0.6815\n",
            "Epoch 67/100\n",
            "15462/15462 [==============================] - 14s 927us/sample - loss: 1.7953 - accuracy: 0.6809\n",
            "Epoch 68/100\n",
            "15462/15462 [==============================] - 14s 926us/sample - loss: 1.7664 - accuracy: 0.6878\n",
            "Epoch 69/100\n",
            "15462/15462 [==============================] - 14s 921us/sample - loss: 1.7292 - accuracy: 0.6989\n",
            "Epoch 70/100\n",
            "15462/15462 [==============================] - 14s 920us/sample - loss: 1.7113 - accuracy: 0.6978\n",
            "Epoch 71/100\n",
            "15462/15462 [==============================] - 14s 922us/sample - loss: 1.6954 - accuracy: 0.7005\n",
            "Epoch 72/100\n",
            "15462/15462 [==============================] - 14s 925us/sample - loss: 1.6525 - accuracy: 0.7136\n",
            "Epoch 73/100\n",
            "15462/15462 [==============================] - 14s 938us/sample - loss: 1.6287 - accuracy: 0.7185\n",
            "Epoch 74/100\n",
            "15462/15462 [==============================] - 14s 923us/sample - loss: 1.6099 - accuracy: 0.7221\n",
            "Epoch 75/100\n",
            "15462/15462 [==============================] - 14s 923us/sample - loss: 1.5838 - accuracy: 0.7271\n",
            "Epoch 76/100\n",
            "15462/15462 [==============================] - 14s 924us/sample - loss: 1.5730 - accuracy: 0.7227\n",
            "Epoch 77/100\n",
            "15462/15462 [==============================] - 14s 919us/sample - loss: 1.5545 - accuracy: 0.7302\n",
            "Epoch 78/100\n",
            "15462/15462 [==============================] - 14s 922us/sample - loss: 1.5348 - accuracy: 0.7331\n",
            "Epoch 79/100\n",
            "15462/15462 [==============================] - 14s 921us/sample - loss: 1.5015 - accuracy: 0.7432\n",
            "Epoch 80/100\n",
            "15462/15462 [==============================] - 14s 924us/sample - loss: 1.4898 - accuracy: 0.7407\n",
            "Epoch 81/100\n",
            "15462/15462 [==============================] - 14s 923us/sample - loss: 1.4669 - accuracy: 0.7476\n",
            "Epoch 82/100\n",
            "15462/15462 [==============================] - 14s 923us/sample - loss: 1.4520 - accuracy: 0.7553\n",
            "Epoch 83/100\n",
            "15462/15462 [==============================] - 15s 945us/sample - loss: 1.4271 - accuracy: 0.7597\n",
            "Epoch 84/100\n",
            "15462/15462 [==============================] - 14s 931us/sample - loss: 1.4236 - accuracy: 0.7531\n",
            "Epoch 85/100\n",
            "15462/15462 [==============================] - 14s 931us/sample - loss: 1.4022 - accuracy: 0.7586\n",
            "Epoch 86/100\n",
            "15462/15462 [==============================] - 14s 925us/sample - loss: 1.3876 - accuracy: 0.7635\n",
            "Epoch 87/100\n",
            "15462/15462 [==============================] - 14s 926us/sample - loss: 1.3640 - accuracy: 0.7668\n",
            "Epoch 88/100\n",
            "15462/15462 [==============================] - 14s 926us/sample - loss: 1.3521 - accuracy: 0.7694\n",
            "Epoch 89/100\n",
            "15462/15462 [==============================] - 14s 929us/sample - loss: 1.3429 - accuracy: 0.7709\n",
            "Epoch 90/100\n",
            "15462/15462 [==============================] - 14s 929us/sample - loss: 1.3221 - accuracy: 0.7741\n",
            "Epoch 91/100\n",
            "15462/15462 [==============================] - 14s 931us/sample - loss: 1.3181 - accuracy: 0.7738\n",
            "Epoch 92/100\n",
            "15462/15462 [==============================] - 14s 927us/sample - loss: 1.2902 - accuracy: 0.7778\n",
            "Epoch 93/100\n",
            "15462/15462 [==============================] - 14s 926us/sample - loss: 1.2843 - accuracy: 0.7793\n",
            "Epoch 94/100\n",
            "15462/15462 [==============================] - 14s 929us/sample - loss: 1.2798 - accuracy: 0.7811\n",
            "Epoch 95/100\n",
            "15462/15462 [==============================] - 14s 928us/sample - loss: 1.2554 - accuracy: 0.7867\n",
            "Epoch 96/100\n",
            "15462/15462 [==============================] - 14s 933us/sample - loss: 1.2479 - accuracy: 0.7875\n",
            "Epoch 97/100\n",
            "15462/15462 [==============================] - 14s 929us/sample - loss: 1.2272 - accuracy: 0.7903\n",
            "Epoch 98/100\n",
            "15462/15462 [==============================] - 14s 930us/sample - loss: 1.2382 - accuracy: 0.7815\n",
            "Epoch 99/100\n",
            "15462/15462 [==============================] - 14s 930us/sample - loss: 1.2190 - accuracy: 0.7899\n",
            "Epoch 100/100\n",
            "15462/15462 [==============================] - 14s 930us/sample - loss: 1.2074 - accuracy: 0.7896\n"
          ],
          "name": "stdout"
        }
      ]
    },
    {
      "cell_type": "code",
      "metadata": {
        "id": "1fXTEO3GJ282",
        "colab_type": "code",
        "outputId": "41e9864c-b643-4c65-8559-e29f638af852",
        "colab": {
          "base_uri": "https://localhost:8080/",
          "height": 545
        }
      },
      "source": [
        "import matplotlib.pyplot as plt\n",
        "acc = history.history['accuracy']\n",
        "loss = history.history['loss']\n",
        "\n",
        "epochs = range(len(acc))\n",
        "\n",
        "plt.plot(epochs, acc, 'b', label='Training accuracy')\n",
        "plt.title('Training accuracy')\n",
        "\n",
        "plt.figure()\n",
        "\n",
        "plt.plot(epochs, loss, 'b', label='Training Loss')\n",
        "plt.title('Training loss')\n",
        "plt.legend()\n",
        "\n",
        "plt.show()"
      ],
      "execution_count": 0,
      "outputs": [
        {
          "output_type": "display_data",
          "data": {
            "image/png": "[encoded data removed]",
            "text/plain": [
              "<Figure size 432x288 with 1 Axes>"
            ]
          },
          "metadata": {
            "tags": []
          }
        },
        {
          "output_type": "display_data",
          "data": {
            "image/png": "[encoded data removed]",
            "text/plain": [
              "<Figure size 432x288 with 1 Axes>"
            ]
          },
          "metadata": {
            "tags": []
          }
        }
      ]
    },
    {
      "cell_type": "code",
      "metadata": {
        "id": "6Vc6PHgxa6Hm",
        "colab_type": "code",
        "outputId": "37db648c-5d5a-4e3f-a67b-f00b4a2f5286",
        "colab": {
          "base_uri": "https://localhost:8080/",
          "height": 54
        }
      },
      "source": [
        "seed_text = \"Help me Obi Wan Kenobi, you're my only hope\"\n",
        "next_words = 100\n",
        "  \n",
        "for _ in range(next_words):\n",
        "\ttoken_list = tokenizer.texts_to_sequences([seed_text])[0]\n",
        "\ttoken_list = pad_sequences([token_list], maxlen=max_sequence_len-1, padding='pre')\n",
        "\tpredicted = model.predict_classes(token_list, verbose=0)\n",
        "\toutput_word = \"\"\n",
        "\tfor word, index in tokenizer.word_index.items():\n",
        "\t\tif index == predicted:\n",
        "\t\t\toutput_word = word\n",
        "\t\t\tbreak\n",
        "\tseed_text += \" \" + output_word\n",
        "print(seed_text)"
      ],
      "execution_count": 0,
      "outputs": [
        {
          "output_type": "stream",
          "text": [
            "Help me Obi Wan Kenobi, you're my only hope shall most thine worth seem more bright be gone more rare hast you might call thee left thine be forth more still away the day with seem or more spent quite express'd play 'tis hence grows shine bearing slain quite date forth weeds seem twain still seem o'er laws twain days seem gentle wrong ' must glance rolling bevel twain twain quite blot new 'tis fangled still away away altering heaven left up too feeds with a west with things more appetite doth seldom new days held taken quite expired clearer days bail lies lies despair doth lies twain twain\n"
          ],
          "name": "stdout"
        }
      ]
    },
    {
      "cell_type": "code",
      "metadata": {
        "id": "1PcdWC4HybYd",
        "colab_type": "code",
        "colab": {}
      },
      "source": [
        ""
      ],
      "execution_count": 0,
      "outputs": []
    }
  ]
}